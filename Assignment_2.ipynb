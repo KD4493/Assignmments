{
  "nbformat": 4,
  "nbformat_minor": 0,
  "metadata": {
    "colab": {
      "name": "Assignment-2.ipynb",
      "provenance": [],
      "collapsed_sections": []
    },
    "kernelspec": {
      "name": "python3",
      "display_name": "Python 3"
    }
  },
  "cells": [
    {
      "cell_type": "code",
      "metadata": {
        "id": "yK_RDSXTvlNo",
        "colab_type": "code",
        "colab": {
          "base_uri": "https://localhost:8080/",
          "height": 168
        },
        "outputId": "8189bcb4-44d9-466c-a23b-e725438db1a7"
      },
      "source": [
        "l1 = []\n",
        "for i in range(1,3):\n",
        "    for n in range(1,6):\n",
        "        l1.append(n)\n",
        "l2 = l1[0:4]\n",
        "l3 = l1[4::-1]\n",
        "for m in (l2+l3):\n",
        "    print(\"*\"*m)"
      ],
      "execution_count": null,
      "outputs": [
        {
          "output_type": "stream",
          "text": [
            "*\n",
            "**\n",
            "***\n",
            "****\n",
            "*****\n",
            "****\n",
            "***\n",
            "**\n",
            "*\n"
          ],
          "name": "stdout"
        }
      ]
    },
    {
      "cell_type": "code",
      "metadata": {
        "id": "6jf8r1HQxWFc",
        "colab_type": "code",
        "colab": {
          "base_uri": "https://localhost:8080/",
          "height": 67
        },
        "outputId": "ff620cae-467a-4461-e722-62100db805ba"
      },
      "source": [
        "input_word = input(\"Enter the input word\")\n",
        "output_word = input_word[::-1]\n",
        "print(\"input word: {}\".format(input_word))\n",
        "print(\"output_word: {}\".format(output_word))"
      ],
      "execution_count": null,
      "outputs": [
        {
          "output_type": "stream",
          "text": [
            "Enter the input wordkuldeep\n",
            "input word: kuldeep\n",
            "output_word: peedluk\n"
          ],
          "name": "stdout"
        }
      ]
    },
    {
      "cell_type": "code",
      "metadata": {
        "id": "B7Pp6IRwxg4k",
        "colab_type": "code",
        "colab": {}
      },
      "source": [
        ""
      ],
      "execution_count": null,
      "outputs": []
    }
  ]
}