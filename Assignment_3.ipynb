{
  "nbformat": 4,
  "nbformat_minor": 0,
  "metadata": {
    "colab": {
      "name": "Assignment 3.ipynb",
      "provenance": [],
      "collapsed_sections": []
    },
    "kernelspec": {
      "name": "python3",
      "display_name": "Python 3"
    }
  },
  "cells": [
    {
      "cell_type": "markdown",
      "metadata": {
        "id": "FYI6S8wVccQj",
        "colab_type": "text"
      },
      "source": [
        "1.1 myreduce() function"
      ]
    },
    {
      "cell_type": "code",
      "metadata": {
        "id": "8dpQGC6Iulrf",
        "colab_type": "code",
        "colab": {
          "base_uri": "https://localhost:8080/",
          "height": 34
        },
        "outputId": "4161c72e-c3b9-4944-9258-ed34524dadbf"
      },
      "source": [
        "def myreduce(myfunc,lst):\n",
        "    result = lst[0]\n",
        "    for i in range(len(lst)-1):\n",
        "        result = myfunc(result,lst[i+1])\n",
        "    print(result)\n",
        "def myfunc1(a,b):\n",
        "  return a+b\n",
        "lst1 = [1,2,3,4,5]\n",
        "myreduce(myfunc1,lst1)"
      ],
      "execution_count": null,
      "outputs": [
        {
          "output_type": "stream",
          "text": [
            "15\n"
          ],
          "name": "stdout"
        }
      ]
    },
    {
      "cell_type": "markdown",
      "metadata": {
        "id": "36tLDIRmc3O6",
        "colab_type": "text"
      },
      "source": [
        "1.2 myfilter() function"
      ]
    },
    {
      "cell_type": "code",
      "metadata": {
        "id": "JR9e4NTtuvHS",
        "colab_type": "code",
        "colab": {}
      },
      "source": [
        "def myfilter(myfunc,lst):\n",
        "    for i in lst:\n",
        "        if myfunc(i):\n",
        "            yield i\n",
        "\n",
        "        "
      ],
      "execution_count": null,
      "outputs": []
    },
    {
      "cell_type": "markdown",
      "metadata": {
        "id": "GDPZWIaQc8Xx",
        "colab_type": "text"
      },
      "source": [
        "2.  List comprehensions 1"
      ]
    },
    {
      "cell_type": "code",
      "metadata": {
        "id": "yxnQWZumdII6",
        "colab_type": "code",
        "colab": {
          "base_uri": "https://localhost:8080/",
          "height": 34
        },
        "outputId": "523f197e-09d5-4f2c-f28f-3e57ce923253"
      },
      "source": [
        "list1 = [(n*m) for n in ('x','y','z') for m in range(1,5)]\n",
        "list1"
      ],
      "execution_count": null,
      "outputs": [
        {
          "output_type": "execute_result",
          "data": {
            "text/plain": [
              "['x', 'xx', 'xxx', 'xxxx', 'y', 'yy', 'yyy', 'yyyy', 'z', 'zz', 'zzz', 'zzzz']"
            ]
          },
          "metadata": {
            "tags": []
          },
          "execution_count": 1
        }
      ]
    },
    {
      "cell_type": "markdown",
      "metadata": {
        "id": "CwYJe6dBd5Iu",
        "colab_type": "text"
      },
      "source": [
        "List comprehensions 2"
      ]
    },
    {
      "cell_type": "code",
      "metadata": {
        "id": "eSqCfkU-d748",
        "colab_type": "code",
        "colab": {
          "base_uri": "https://localhost:8080/",
          "height": 34
        },
        "outputId": "20af0136-d6b0-4bae-e48c-a06dd981dc8a"
      },
      "source": [
        "list2 = [(i*n) for i in range(1,5) for n in ('x','y','z')]\n",
        "list2"
      ],
      "execution_count": null,
      "outputs": [
        {
          "output_type": "execute_result",
          "data": {
            "text/plain": [
              "['x', 'y', 'z', 'xx', 'yy', 'zz', 'xxx', 'yyy', 'zzz', 'xxxx', 'yyyy', 'zzzz']"
            ]
          },
          "metadata": {
            "tags": []
          },
          "execution_count": 2
        }
      ]
    },
    {
      "cell_type": "markdown",
      "metadata": {
        "id": "HoFqojMceTQJ",
        "colab_type": "text"
      },
      "source": [
        "List comprehensions 3"
      ]
    },
    {
      "cell_type": "code",
      "metadata": {
        "id": "OZBr0RACeWFZ",
        "colab_type": "code",
        "colab": {
          "base_uri": "https://localhost:8080/",
          "height": 34
        },
        "outputId": "bb153f4b-a97e-4296-8899-30ebd4aa305f"
      },
      "source": [
        "list3 = [[i+n] for i in range(1,4) for n in range(1,4)]\n",
        "list3"
      ],
      "execution_count": null,
      "outputs": [
        {
          "output_type": "execute_result",
          "data": {
            "text/plain": [
              "[[2], [3], [4], [3], [4], [5], [4], [5], [6]]"
            ]
          },
          "metadata": {
            "tags": []
          },
          "execution_count": 3
        }
      ]
    },
    {
      "cell_type": "markdown",
      "metadata": {
        "id": "YbzUTG9AfbVo",
        "colab_type": "text"
      },
      "source": [
        "List comprehensions 4"
      ]
    },
    {
      "cell_type": "code",
      "metadata": {
        "id": "LmgIck8HfeGY",
        "colab_type": "code",
        "colab": {
          "base_uri": "https://localhost:8080/",
          "height": 34
        },
        "outputId": "fd5abded-5202-479d-8942-13e7e0c783e9"
      },
      "source": [
        "list4 = [[i+n for i in range (1,5)] for n in range(1,5)]\n",
        "list4"
      ],
      "execution_count": null,
      "outputs": [
        {
          "output_type": "execute_result",
          "data": {
            "text/plain": [
              "[[2, 3, 4, 5], [3, 4, 5, 6], [4, 5, 6, 7], [5, 6, 7, 8]]"
            ]
          },
          "metadata": {
            "tags": []
          },
          "execution_count": 4
        }
      ]
    },
    {
      "cell_type": "markdown",
      "metadata": {
        "id": "NqW7q665o0fk",
        "colab_type": "text"
      },
      "source": [
        "List comprehensions 5"
      ]
    },
    {
      "cell_type": "code",
      "metadata": {
        "id": "QmwG2lBXo3gx",
        "colab_type": "code",
        "colab": {
          "base_uri": "https://localhost:8080/",
          "height": 34
        },
        "outputId": "94a5730c-4b8f-4038-c3e7-059709b685e7"
      },
      "source": [
        "list5 = [(y,x) for x in [1,2,3] for y in [1,2,3] ]\n",
        "list5"
      ],
      "execution_count": null,
      "outputs": [
        {
          "output_type": "execute_result",
          "data": {
            "text/plain": [
              "[(1, 1), (2, 1), (3, 1), (1, 2), (2, 2), (3, 2), (1, 3), (2, 3), (3, 3)]"
            ]
          },
          "metadata": {
            "tags": []
          },
          "execution_count": 5
        }
      ]
    }
  ]
}