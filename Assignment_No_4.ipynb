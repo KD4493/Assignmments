{
  "nbformat": 4,
  "nbformat_minor": 0,
  "metadata": {
    "colab": {
      "name": "Assignment No. 4.ipynb",
      "provenance": [],
      "collapsed_sections": []
    },
    "kernelspec": {
      "name": "python3",
      "display_name": "Python 3"
    }
  },
  "cells": [
    {
      "cell_type": "markdown",
      "metadata": {
        "id": "tgbFq3KHCDl9",
        "colab_type": "text"
      },
      "source": [
        "1.1 Area Of Triangle\n"
      ]
    },
    {
      "cell_type": "code",
      "metadata": {
        "id": "fgcGfGwlBtYz",
        "colab_type": "code",
        "colab": {
          "base_uri": "https://localhost:8080/",
          "height": 34
        },
        "outputId": "2cfd1337-b49d-483d-b805-dd6e0c3c97e4"
      },
      "source": [
        "class Sides:\n",
        "  def __init__(self,a,b,c):\n",
        "    self.a = a\n",
        "    self.b = b\n",
        "    self.c = c\n",
        "    self.s = (a + b + c)/2\n",
        "\n",
        "\n",
        "\n",
        "class Area(Sides):\n",
        "  def area(self):\n",
        "    return (self.s * (self.s - self.a) * (self.s - self.b) * (self.s - self.c))\n",
        "\n",
        "t1 = Area(4,5,6)\n",
        "t1.area()\n",
        "\n",
        "\n"
      ],
      "execution_count": null,
      "outputs": [
        {
          "output_type": "execute_result",
          "data": {
            "text/plain": [
              "98.4375"
            ]
          },
          "metadata": {
            "tags": []
          },
          "execution_count": 14
        }
      ]
    },
    {
      "cell_type": "code",
      "metadata": {
        "id": "MfidJYTkET76",
        "colab_type": "code",
        "colab": {
          "base_uri": "https://localhost:8080/",
          "height": 34
        },
        "outputId": "f8af0307-6fd5-403e-f754-b855b9ca406a"
      },
      "source": [
        "def filter_long_words(lst,n):\n",
        "    lst1 = []\n",
        "    for i in lst:\n",
        "        if len(i) > n:\n",
        "            lst1.append(i)\n",
        "    print(lst1)\n",
        "\n",
        "lst2 = ['jkl','hjkl','ghjkl','fghjkl','dfghjk']\n",
        "filter_long_words(lst2,5)"
      ],
      "execution_count": null,
      "outputs": [
        {
          "output_type": "stream",
          "text": [
            "['fghjkl', 'dfghjk']\n"
          ],
          "name": "stdout"
        }
      ]
    },
    {
      "cell_type": "markdown",
      "metadata": {
        "id": "c-U8YcAhdEnd",
        "colab_type": "text"
      },
      "source": [
        "2.1 Length of Words"
      ]
    },
    {
      "cell_type": "code",
      "metadata": {
        "id": "1wkYcnyzIt5d",
        "colab_type": "code",
        "colab": {
          "base_uri": "https://localhost:8080/",
          "height": 34
        },
        "outputId": "fe8514c2-97f3-4da7-80a9-210fba9ce4d9"
      },
      "source": [
        "def length_of_words(lst):\n",
        "  for i in range(len(lst)):\n",
        "    lst[i] = len(lst[i])\n",
        "  print(lst)\n",
        "\n",
        "lst1 = [\"ab\",\"cde\",\"erty\"]\n",
        "length_of_words(lst1)"
      ],
      "execution_count": null,
      "outputs": [
        {
          "output_type": "stream",
          "text": [
            "[2, 3, 4]\n"
          ],
          "name": "stdout"
        }
      ]
    },
    {
      "cell_type": "markdown",
      "metadata": {
        "id": "8fzWH0tadSN6",
        "colab_type": "text"
      },
      "source": [
        "2.2 Vowel and consonant\n"
      ]
    },
    {
      "cell_type": "code",
      "metadata": {
        "id": "6QYxKfoYRxuo",
        "colab_type": "code",
        "colab": {
          "base_uri": "https://localhost:8080/",
          "height": 50
        },
        "outputId": "b88dc4b4-a837-4e4f-9b20-81eea4c94044"
      },
      "source": [
        "def isvowel():\n",
        "    char = input(\"Please enter a character\")\n",
        "    vowel = ['a','e','i','o','u']\n",
        "    for n in vowel:\n",
        "        if char == n:\n",
        "            return True\n",
        "    else:\n",
        "        return False\n",
        "        \n",
        "isvowel()"
      ],
      "execution_count": null,
      "outputs": [
        {
          "output_type": "stream",
          "text": [
            "Please enter a charactere\n"
          ],
          "name": "stdout"
        },
        {
          "output_type": "execute_result",
          "data": {
            "text/plain": [
              "True"
            ]
          },
          "metadata": {
            "tags": []
          },
          "execution_count": 3
        }
      ]
    },
    {
      "cell_type": "code",
      "metadata": {
        "id": "z2BTAk61e2E9",
        "colab_type": "code",
        "colab": {}
      },
      "source": [
        "\n"
      ],
      "execution_count": null,
      "outputs": []
    }
  ]
}