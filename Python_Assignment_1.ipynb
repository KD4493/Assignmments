{
  "nbformat": 4,
  "nbformat_minor": 0,
  "metadata": {
    "colab": {
      "name": "Python Assignment 1.ipynb",
      "provenance": [],
      "collapsed_sections": []
    },
    "kernelspec": {
      "name": "python3",
      "display_name": "Python 3"
    }
  },
  "cells": [
    {
      "cell_type": "markdown",
      "metadata": {
        "id": "j_OPvkTxXoEe",
        "colab_type": "text"
      },
      "source": [
        "1.Numbers which are divisible by 7 but are not multiple of 5 between 2000 and 3200 on a comma-separated sequence on a single line"
      ]
    },
    {
      "cell_type": "code",
      "metadata": {
        "id": "6HnOC1QRPT5j",
        "colab_type": "code",
        "colab": {
          "base_uri": "https://localhost:8080/",
          "height": 54
        },
        "outputId": "d6a11e02-c001-4df8-aaeb-60c66636513f"
      },
      "source": [
        "lst = []\n",
        "for i in range(2000,3201):\n",
        "  if i % 7 == 0 and i % 5 != 0:\n",
        "    lst.append(i)\n",
        "print(lst)\n"
      ],
      "execution_count": null,
      "outputs": [
        {
          "output_type": "stream",
          "text": [
            "[2002, 2009, 2016, 2023, 2037, 2044, 2051, 2058, 2072, 2079, 2086, 2093, 2107, 2114, 2121, 2128, 2142, 2149, 2156, 2163, 2177, 2184, 2191, 2198, 2212, 2219, 2226, 2233, 2247, 2254, 2261, 2268, 2282, 2289, 2296, 2303, 2317, 2324, 2331, 2338, 2352, 2359, 2366, 2373, 2387, 2394, 2401, 2408, 2422, 2429, 2436, 2443, 2457, 2464, 2471, 2478, 2492, 2499, 2506, 2513, 2527, 2534, 2541, 2548, 2562, 2569, 2576, 2583, 2597, 2604, 2611, 2618, 2632, 2639, 2646, 2653, 2667, 2674, 2681, 2688, 2702, 2709, 2716, 2723, 2737, 2744, 2751, 2758, 2772, 2779, 2786, 2793, 2807, 2814, 2821, 2828, 2842, 2849, 2856, 2863, 2877, 2884, 2891, 2898, 2912, 2919, 2926, 2933, 2947, 2954, 2961, 2968, 2982, 2989, 2996, 3003, 3017, 3024, 3031, 3038, 3052, 3059, 3066, 3073, 3087, 3094, 3101, 3108, 3122, 3129, 3136, 3143, 3157, 3164, 3171, 3178, 3192, 3199]\n"
          ],
          "name": "stdout"
        }
      ]
    },
    {
      "cell_type": "markdown",
      "metadata": {
        "id": "hiapezlFdmhI",
        "colab_type": "text"
      },
      "source": [
        "2.Accepting user's first and last name and printing in the reverse order.\n"
      ]
    },
    {
      "cell_type": "code",
      "metadata": {
        "id": "I_kDYc27d420",
        "colab_type": "code",
        "colab": {
          "base_uri": "https://localhost:8080/",
          "height": 67
        },
        "outputId": "22e1def7-d9b2-4efc-f00e-b4e22e161b7f"
      },
      "source": [
        "first_name = input(\"Please enter your first name\")\n",
        "last_name = input(\"Please enter your last name\")\n",
        "print(\"user name is \"+ \"\" + last_name +\" \" + first_name )\n"
      ],
      "execution_count": null,
      "outputs": [
        {
          "output_type": "stream",
          "text": [
            "Please enter your first nameKuldeep\n",
            "Please enter your last nameGavade\n",
            "user name is Gavade Kuldeep\n"
          ],
          "name": "stdout"
        }
      ]
    },
    {
      "cell_type": "markdown",
      "metadata": {
        "id": "JGdrxxyWQP3m",
        "colab_type": "text"
      },
      "source": [
        "3.Volume of a sphere with diameter of 12 cm\n"
      ]
    },
    {
      "cell_type": "code",
      "metadata": {
        "id": "saeLYgsTQbSE",
        "colab_type": "code",
        "colab": {
          "base_uri": "https://localhost:8080/",
          "height": 34
        },
        "outputId": "69f7fe01-de1b-4043-b9ad-3f02b8426604"
      },
      "source": [
        "import math\n",
        "dia_cm = 12\n",
        "rad_cm = dia_cm / 2\n",
        "rad_m = rad_cm / 100.0     #converted radius in metre\n",
        "Volume = (4/3 * math.pi * rad_m**3)\n",
        "Volume"
      ],
      "execution_count": null,
      "outputs": [
        {
          "output_type": "execute_result",
          "data": {
            "text/plain": [
              "0.0009047786842338602"
            ]
          },
          "metadata": {
            "tags": []
          },
          "execution_count": 2
        }
      ]
    }
  ]
}